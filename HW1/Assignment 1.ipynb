{
 "cells": [
  {
   "cell_type": "markdown",
   "metadata": {},
   "source": [
    "# Natural Language Processing for the Social Sciences (GR5067), Fall 2019\n",
    "\n",
    "HW#1 – Due by 11:59PM 2019-09-18\n",
    "ONLY SUBMIT A .py or .ipynb"
   ]
  },
  {
   "cell_type": "markdown",
   "metadata": {},
   "source": [
    "## QUESTION 1\n",
    "\n",
    "**Example Code:**\n",
    " "
   ]
  },
  {
   "cell_type": "code",
   "execution_count": 2,
   "metadata": {
    "scrolled": true
   },
   "outputs": [
    {
     "name": "stdout",
     "output_type": "stream",
     "text": [
      "0\n",
      "1\n",
      "2\n",
      "3\n",
      "4\n",
      "5\n",
      "6\n",
      "7\n",
      "8\n",
      "9\n",
      "10\n",
      "11\n",
      "12\n",
      "13\n",
      "14\n",
      "15\n",
      "16\n",
      "17\n",
      "18\n",
      "19\n",
      "20\n",
      "21\n",
      "22\n",
      "23\n",
      "24\n",
      "25\n",
      "26\n",
      "27\n",
      "28\n",
      "29\n",
      "30\n",
      "31\n",
      "32\n",
      "33\n",
      "34\n",
      "35\n",
      "36\n",
      "37\n",
      "38\n",
      "39\n",
      "40\n",
      "41\n",
      "42\n",
      "43\n",
      "44\n",
      "45\n",
      "46\n",
      "47\n",
      "48\n",
      "49\n",
      "50\n",
      "51\n",
      "52\n",
      "53\n",
      "54\n",
      "55\n",
      "56\n",
      "57\n",
      "58\n",
      "59\n",
      "60\n",
      "61\n",
      "62\n",
      "63\n",
      "64\n",
      "65\n",
      "66\n",
      "67\n",
      "68\n",
      "69\n",
      "70\n",
      "71\n",
      "72\n",
      "73\n",
      "74\n",
      "75\n",
      "76\n",
      "77\n",
      "78\n",
      "79\n",
      "80\n",
      "81\n",
      "82\n",
      "83\n",
      "84\n",
      "85\n",
      "86\n",
      "87\n",
      "88\n",
      "89\n",
      "90\n",
      "91\n",
      "92\n",
      "93\n",
      "94\n",
      "95\n",
      "96\n",
      "97\n",
      "98\n",
      "99\n"
     ]
    }
   ],
   "source": [
    "for word in range(0, 100):\n",
    "\n",
    "    print (word)"
   ]
  },
  {
   "cell_type": "markdown",
   "metadata": {},
   "source": [
    "### RESPONSE TO QUESTION 1.1\n",
    "**Change the example code to count up in increments of 2**\n",
    "\n"
   ]
  },
  {
   "cell_type": "code",
   "execution_count": 3,
   "metadata": {
    "scrolled": true
   },
   "outputs": [
    {
     "name": "stdout",
     "output_type": "stream",
     "text": [
      "0\n",
      "2\n",
      "4\n",
      "6\n",
      "8\n",
      "10\n",
      "12\n",
      "14\n",
      "16\n",
      "18\n",
      "20\n",
      "22\n",
      "24\n",
      "26\n",
      "28\n",
      "30\n",
      "32\n",
      "34\n",
      "36\n",
      "38\n",
      "40\n",
      "42\n",
      "44\n",
      "46\n",
      "48\n",
      "50\n",
      "52\n",
      "54\n",
      "56\n",
      "58\n",
      "60\n",
      "62\n",
      "64\n",
      "66\n",
      "68\n",
      "70\n",
      "72\n",
      "74\n",
      "76\n",
      "78\n",
      "80\n",
      "82\n",
      "84\n",
      "86\n",
      "88\n",
      "90\n",
      "92\n",
      "94\n",
      "96\n",
      "98\n"
     ]
    }
   ],
   "source": [
    "#Add 2 as additiional argument indicating increment\n",
    "for word in range(0, 100, 2):\n",
    "    print (word)"
   ]
  },
  {
   "cell_type": "markdown",
   "metadata": {},
   "source": [
    "### RESPONSE TO QUESTION 1.2\n",
    "**Change the example to count up in increments of 0.5**"
   ]
  },
  {
   "cell_type": "code",
   "execution_count": 4,
   "metadata": {},
   "outputs": [
    {
     "name": "stdout",
     "output_type": "stream",
     "text": [
      "0.0\n",
      "0.5\n",
      "1.0\n",
      "1.5\n",
      "2.0\n",
      "2.5\n",
      "3.0\n",
      "3.5\n",
      "4.0\n",
      "4.5\n",
      "5.0\n",
      "5.5\n",
      "6.0\n",
      "6.5\n",
      "7.0\n",
      "7.5\n",
      "8.0\n",
      "8.5\n",
      "9.0\n",
      "9.5\n",
      "10.0\n",
      "10.5\n",
      "11.0\n",
      "11.5\n",
      "12.0\n",
      "12.5\n",
      "13.0\n",
      "13.5\n",
      "14.0\n",
      "14.5\n",
      "15.0\n",
      "15.5\n",
      "16.0\n",
      "16.5\n",
      "17.0\n",
      "17.5\n",
      "18.0\n",
      "18.5\n",
      "19.0\n",
      "19.5\n",
      "20.0\n",
      "20.5\n",
      "21.0\n",
      "21.5\n",
      "22.0\n",
      "22.5\n",
      "23.0\n",
      "23.5\n",
      "24.0\n",
      "24.5\n",
      "25.0\n",
      "25.5\n",
      "26.0\n",
      "26.5\n",
      "27.0\n",
      "27.5\n",
      "28.0\n",
      "28.5\n",
      "29.0\n",
      "29.5\n",
      "30.0\n",
      "30.5\n",
      "31.0\n",
      "31.5\n",
      "32.0\n",
      "32.5\n",
      "33.0\n",
      "33.5\n",
      "34.0\n",
      "34.5\n",
      "35.0\n",
      "35.5\n",
      "36.0\n",
      "36.5\n",
      "37.0\n",
      "37.5\n",
      "38.0\n",
      "38.5\n",
      "39.0\n",
      "39.5\n",
      "40.0\n",
      "40.5\n",
      "41.0\n",
      "41.5\n",
      "42.0\n",
      "42.5\n",
      "43.0\n",
      "43.5\n",
      "44.0\n",
      "44.5\n",
      "45.0\n",
      "45.5\n",
      "46.0\n",
      "46.5\n",
      "47.0\n",
      "47.5\n",
      "48.0\n",
      "48.5\n",
      "49.0\n",
      "49.5\n",
      "50.0\n",
      "50.5\n",
      "51.0\n",
      "51.5\n",
      "52.0\n",
      "52.5\n",
      "53.0\n",
      "53.5\n",
      "54.0\n",
      "54.5\n",
      "55.0\n",
      "55.5\n",
      "56.0\n",
      "56.5\n",
      "57.0\n",
      "57.5\n",
      "58.0\n",
      "58.5\n",
      "59.0\n",
      "59.5\n",
      "60.0\n",
      "60.5\n",
      "61.0\n",
      "61.5\n",
      "62.0\n",
      "62.5\n",
      "63.0\n",
      "63.5\n",
      "64.0\n",
      "64.5\n",
      "65.0\n",
      "65.5\n",
      "66.0\n",
      "66.5\n",
      "67.0\n",
      "67.5\n",
      "68.0\n",
      "68.5\n",
      "69.0\n",
      "69.5\n",
      "70.0\n",
      "70.5\n",
      "71.0\n",
      "71.5\n",
      "72.0\n",
      "72.5\n",
      "73.0\n",
      "73.5\n",
      "74.0\n",
      "74.5\n",
      "75.0\n",
      "75.5\n",
      "76.0\n",
      "76.5\n",
      "77.0\n",
      "77.5\n",
      "78.0\n",
      "78.5\n",
      "79.0\n",
      "79.5\n",
      "80.0\n",
      "80.5\n",
      "81.0\n",
      "81.5\n",
      "82.0\n",
      "82.5\n",
      "83.0\n",
      "83.5\n",
      "84.0\n",
      "84.5\n",
      "85.0\n",
      "85.5\n",
      "86.0\n",
      "86.5\n",
      "87.0\n",
      "87.5\n",
      "88.0\n",
      "88.5\n",
      "89.0\n",
      "89.5\n",
      "90.0\n",
      "90.5\n",
      "91.0\n",
      "91.5\n",
      "92.0\n",
      "92.5\n",
      "93.0\n",
      "93.5\n",
      "94.0\n",
      "94.5\n",
      "95.0\n",
      "95.5\n",
      "96.0\n",
      "96.5\n",
      "97.0\n",
      "97.5\n",
      "98.0\n",
      "98.5\n",
      "99.0\n",
      "99.5\n"
     ]
    }
   ],
   "source": [
    "#Cannot do the same thing as 1.1 since the increment argument in range accepts only integers for some reason\n",
    "#Import numpy\n",
    "import numpy\n",
    "\n",
    "#Generate numpy array from 0-100, step 0.5\n",
    "for word in numpy.arange(0, 100, 0.5):\n",
    "    #Print out the series\n",
    "    print(word)"
   ]
  },
  {
   "cell_type": "markdown",
   "metadata": {},
   "source": [
    "## QUESTION 2\n",
    "**Change the loop statement below to an inline for loop statement:**\n",
    " \n",
    "\n",
    "\n"
   ]
  },
  {
   "cell_type": "code",
   "execution_count": 5,
   "metadata": {},
   "outputs": [
    {
     "name": "stdout",
     "output_type": "stream",
     "text": [
      "['the', 'student', 'went', 'above', 'and', 'beyond', 'the', 'call', 'of', 'duty', 'on', 'the', 'homework']\n"
     ]
    }
   ],
   "source": [
    "#Example Code:\n",
    "the_sentence = 'the student went above and beyond the call of duty on the homework'\n",
    "\n",
    "my_ar = list()\n",
    "\n",
    " \n",
    "\n",
    "for word in the_sentence.split():\n",
    "    my_ar.append(word)\n",
    "    \n",
    "    #Testing\n",
    "print(my_ar)"
   ]
  },
  {
   "cell_type": "markdown",
   "metadata": {},
   "source": [
    "### RESPONSE TO QUESTION 2\n"
   ]
  },
  {
   "cell_type": "code",
   "execution_count": 6,
   "metadata": {},
   "outputs": [
    {
     "name": "stdout",
     "output_type": "stream",
     "text": [
      "['the', 'student', 'went', 'above', 'and', 'beyond', 'the', 'call', 'of', 'duty', 'on', 'the', 'homework']\n"
     ]
    }
   ],
   "source": [
    "the_sentence = 'the student went above and beyond the call of duty on the homework'\n",
    "my_ar = list()\n",
    "#Create inline for loop\n",
    "my_ar = [word for word in the_sentence.split()]\n",
    "\n",
    "#Testing\n",
    "print(my_ar)"
   ]
  },
  {
   "cell_type": "markdown",
   "metadata": {},
   "source": [
    "## QUESTION 3\n",
    "**Change the below code to NOT include the word orange:**"
   ]
  },
  {
   "cell_type": "code",
   "execution_count": 7,
   "metadata": {},
   "outputs": [
    {
     "name": "stdout",
     "output_type": "stream",
     "text": [
      "['the', 'orange', 'cat', 'jumped', 'over', 'the', 'dog,', 'but', 'the', 'orange', 'cat', 'landed', 'on', 'another', 'orange', 'cat']\n"
     ]
    }
   ],
   "source": [
    "the_sentence = 'the orange cat jumped over the dog, but the orange cat landed on another orange cat'\n",
    "\n",
    "my_ar = [word for word in the_sentence.split()]\n",
    "\n",
    "#testing\n",
    "print(my_ar)"
   ]
  },
  {
   "cell_type": "markdown",
   "metadata": {},
   "source": [
    "### RESPONSE TO QUESTION 3"
   ]
  },
  {
   "cell_type": "code",
   "execution_count": 8,
   "metadata": {},
   "outputs": [
    {
     "name": "stdout",
     "output_type": "stream",
     "text": [
      "['the', 'cat', 'jumped', 'over', 'the', 'dog,', 'but', 'the', 'cat', 'landed', 'on', 'another', 'cat']\n"
     ]
    }
   ],
   "source": [
    "the_sentence = 'the orange cat jumped over the dog, but the orange cat landed on another orange cat'\n",
    "\n",
    "#Import re to deal with regex\n",
    "import re\n",
    "\n",
    "#Remove the oranges\n",
    "myOrangeLessString = re.sub('orange', '', the_sentence)\n",
    "\n",
    "#Run the loop\n",
    "my_ar = [word for word in myOrangeLessString.split()]\n",
    "\n",
    "#testing\n",
    "print(my_ar)\n",
    "\n",
    "#If have time, try to figure out how to remove orange without case sensitivity"
   ]
  },
  {
   "cell_type": "markdown",
   "metadata": {},
   "source": [
    "## QUESTION 4\n",
    "**Create a program that removes all special characters from the sentence:**"
   ]
  },
  {
   "cell_type": "code",
   "execution_count": 9,
   "metadata": {},
   "outputs": [
    {
     "name": "stdout",
     "output_type": "stream",
     "text": [
      "woah!!! @student really #impressed me, & so did you!!!\n"
     ]
    }
   ],
   "source": [
    "the_sentence = 'woah!!! @student really #impressed me, & so did you!!!'\n",
    "\n",
    "#testing\n",
    "print(the_sentence)"
   ]
  },
  {
   "cell_type": "markdown",
   "metadata": {},
   "source": [
    "### RESPONSE TO QUESTION 4"
   ]
  },
  {
   "cell_type": "code",
   "execution_count": 10,
   "metadata": {},
   "outputs": [
    {
     "name": "stdout",
     "output_type": "stream",
     "text": [
      "woah student really impressed me so did you \n"
     ]
    }
   ],
   "source": [
    "the_sentence = 'woah!!! @student really #impressed me, & so did you!!!'\n",
    "\n",
    "#Would import re, but it was imported in the previous response\n",
    "theCleanSentence = re.sub('[^a-zA-z]+', ' ', the_sentence)\n",
    "\n",
    "#testing\n",
    "print(theCleanSentence)\n",
    "\n",
    "#Ok it looks like the + definitely matters here - no + or a * screws it up (see below). Don't quite understand\n",
    "#what the documentation means by one or more times vs 0 or more times."
   ]
  },
  {
   "cell_type": "code",
   "execution_count": 11,
   "metadata": {},
   "outputs": [
    {
     "name": "stdout",
     "output_type": "stream",
     "text": [
      " w o a h  s t u d e n t  r e a l l y  i m p r e s s e d  m e  s o  d i d  y o u  \n",
      "woah     student really  impressed me    so did you   \n"
     ]
    }
   ],
   "source": [
    "#Experimenting\n",
    "theCleanSentence = re.sub('[^a-zA-z]*', ' ', the_sentence)\n",
    "print(theCleanSentence)\n",
    "\n",
    "theCleanSentence = re.sub('[^a-zA-z]', ' ', the_sentence)\n",
    "print(theCleanSentence)"
   ]
  },
  {
   "cell_type": "markdown",
   "metadata": {},
   "source": [
    "## QUESTION 5\n",
    "**Write a program that creates a sentence, each word separated by only one space, out of the following array and replace any special characters with no space, except the '!' characters**"
   ]
  },
  {
   "cell_type": "code",
   "execution_count": 12,
   "metadata": {},
   "outputs": [],
   "source": [
    "the_ar = ['woah!!!','the','@student',' really^','# impressed','me,','and&','so','did','??you!!!']"
   ]
  },
  {
   "cell_type": "markdown",
   "metadata": {},
   "source": [
    "### RESPONSE TO QUESTION 5"
   ]
  },
  {
   "cell_type": "code",
   "execution_count": 13,
   "metadata": {},
   "outputs": [
    {
     "name": "stdout",
     "output_type": "stream",
     "text": [
      "woah!!! the student really impressed me and so did you!!!\n"
     ]
    }
   ],
   "source": [
    "the_ar = ['woah!!!','the','@student',' really^','# impressed','me,','and&','so','did','??you!!!']\n",
    "\n",
    "#Initialise a string variable to hold the sentence and specify the space separator\n",
    "theString=\" \"\n",
    "#Join the array elements into the string\n",
    "theString = theString.join(the_ar)\n",
    "\n",
    "#Remove random characters using regex\n",
    "theCleanString = re.sub('[^\\w\\d!]+', ' ', theString)\n",
    "\n",
    "#testing\n",
    "print(theCleanString)\n",
    "#Again the + seems to matter here"
   ]
  },
  {
   "cell_type": "markdown",
   "metadata": {},
   "source": [
    "## QUESTION 6\n",
    "**Create a program that iterates 1 through 10 and returns 'the number: <number> is even' if the number is even and 'the number: <number> is odd’ if the number is odd.**\n",
    "\n"
   ]
  },
  {
   "cell_type": "markdown",
   "metadata": {},
   "source": [
    "### RESPONSE TO QUESTION 6"
   ]
  },
  {
   "cell_type": "code",
   "execution_count": 14,
   "metadata": {},
   "outputs": [
    {
     "name": "stdout",
     "output_type": "stream",
     "text": [
      "The number: 1 is odd\n",
      "The number: 2 is even\n",
      "The number: 3 is odd\n",
      "The number: 4 is even\n",
      "The number: 5 is odd\n",
      "The number: 6 is even\n",
      "The number: 7 is odd\n",
      "The number: 8 is even\n",
      "The number: 9 is odd\n",
      "The number: 10 is even\n"
     ]
    }
   ],
   "source": [
    "#Create for loop that iterates 1-10\n",
    "for num in range(1, 11):\n",
    "    #Use if statement to check if number is odd/even by finding the remainder when dividing by 2\n",
    "    if num % 2 == 0:\n",
    "        #Print the result\n",
    "        print(\"The number: \" + str(num) + \" is even\")\n",
    "    else:\n",
    "        #Print the result\n",
    "        print(\"The number: \" + str(num) + \" is odd\")"
   ]
  },
  {
   "cell_type": "code",
   "execution_count": 15,
   "metadata": {},
   "outputs": [
    {
     "name": "stdout",
     "output_type": "stream",
     "text": [
      "The number: 1 is odd\n",
      "The number: 2 is even\n",
      "The number: 3 is odd\n",
      "The number: 4 is even\n",
      "The number: 5 is odd\n",
      "The number: 6 is even\n",
      "The number: 7 is odd\n",
      "The number: 8 is even\n",
      "The number: 9 is odd\n",
      "The number: 10 is even\n"
     ]
    }
   ],
   "source": [
    "#The above prints the response, but if looking to create a 'program' that is replicable, and returns values, \n",
    "#a function is needed\n",
    "#This code turns the above into a functionn accepting 1 number, then uses a for loop to call it through a list from 1-10,\n",
    "#to \"return\" the desired strings rather than just print them.\n",
    "\n",
    "def oddOrEven(num):\n",
    "    #Use if statement to check if number is odd/even by finding the remainder when dividing by 2\n",
    "    if num % 2 == 0:\n",
    "        #Return the result\n",
    "        return(\"The number: \" + str(num) + \" is even\")\n",
    "    else:\n",
    "        #Return the result\n",
    "        return(\"The number: \" + str(num) + \" is odd\")\n",
    "for i in range(1, 11):\n",
    "    oddOrEven(i)\n",
    "    \n",
    "    #testing\n",
    "    print(oddOrEven(i))"
   ]
  },
  {
   "cell_type": "markdown",
   "metadata": {},
   "source": [
    "## QUESTION 7\n",
    "**Create a program that counts the occurrence of each word in an arbitrary sentence (variable called the_sentence) and stores each unique 'word' in a dictionary where the key is the word and the value is the number of occurrences of that word.**"
   ]
  },
  {
   "cell_type": "markdown",
   "metadata": {},
   "source": [
    "### RESPONSE TO QUESTION 7"
   ]
  },
  {
   "cell_type": "code",
   "execution_count": 16,
   "metadata": {},
   "outputs": [
    {
     "name": "stdout",
     "output_type": "stream",
     "text": [
      "{'joe': 1, 'waited': 1, 'for': 1, 'the': 2, 'train': 2, 'was': 1, 'late': 1}\n"
     ]
    }
   ],
   "source": [
    "#Test sentence\n",
    "#Import NLTK\n",
    "import nltk\n",
    "\n",
    "#Define our function\n",
    "def wordCounter(theSentence):\n",
    "    #Remove special characters to prevent them from throwing off our count\n",
    "    theSentence = re.sub('[^\\w\\d]+', ' ', theSentence)\n",
    "    #Force all to lower case to prevent case sensitivity from throwing off our count\n",
    "    theSentence = theSentence.lower()\n",
    "    #Split the sentence into a list\n",
    "    splitSentence = nltk.word_tokenize(theSentence)\n",
    "    \n",
    "    \n",
    "    #Create our unique list\n",
    "    #Start by creating a list object\n",
    "    uniqueList = []\n",
    "    #Now add the words into the list\n",
    "    for word in splitSentence:\n",
    "        if word not in uniqueList:\n",
    "            uniqueList.append(word)\n",
    "        \n",
    "    #Count frequency of each word and store it in a list\n",
    "    wordCount = []\n",
    "    for uniqueWord in uniqueList:\n",
    "        wordCount.append(splitSentence.count(uniqueWord))\n",
    "        \n",
    "    #Create our Dictionary\n",
    "    dict = {}\n",
    "    #Add our keys and values\n",
    "    for i in range(len(uniqueList)):\n",
    "        dict.update({uniqueList[i]: wordCount[i]})\n",
    "    \n",
    "    \n",
    "    #Testing\n",
    "    print(str(dict))\n",
    "wordCounter('Joe waited for the train. The train was late.')\n"
   ]
  },
  {
   "cell_type": "markdown",
   "metadata": {},
   "source": [
    "## QUESTION 8\n",
    "**Create a program that replaces any word of a sentence (variable called the_sentence) with an arbitrary word**"
   ]
  },
  {
   "cell_type": "markdown",
   "metadata": {},
   "source": [
    "### RESPONSE TO QUESTION 8"
   ]
  },
  {
   "cell_type": "code",
   "execution_count": 17,
   "metadata": {},
   "outputs": [
    {
     "name": "stdout",
     "output_type": "stream",
     "text": [
      "Joe waited for the sub. The sub was late.\n"
     ]
    }
   ],
   "source": [
    "#Our function here takes 3 string arguments\n",
    "# oldWord - the word to be found and replaced\n",
    "# newWord - the word to replace oldWord\n",
    "#the_sentence - the string in which newWord replaces oldWord\n",
    "def wordReplacer(oldWord, newWord, the_sentence):\n",
    "    the_sentence = the_sentence.replace(oldWord, newWord)\n",
    "    print(the_sentence)\n",
    "\n",
    "#Testing\n",
    "wordReplacer(\"train\", \"sub\", \"Joe waited for the train. The train was late.\")"
   ]
  },
  {
   "cell_type": "markdown",
   "metadata": {},
   "source": [
    "## QUESTION 9\n",
    "**Cleanse the following sentence by removing all special characters except when the hyphen (-) joins to two words and exclamation (!) points**"
   ]
  },
  {
   "cell_type": "code",
   "execution_count": 18,
   "metadata": {},
   "outputs": [],
   "source": [
    "the_sentence = 'The impact*of data-driven$^%&marketing approaches!!'"
   ]
  },
  {
   "cell_type": "markdown",
   "metadata": {},
   "source": [
    "### RESPONSE TO QUESTION 9"
   ]
  },
  {
   "cell_type": "code",
   "execution_count": 21,
   "metadata": {},
   "outputs": [
    {
     "name": "stdout",
     "output_type": "stream",
     "text": [
      "The impact of data driven marketing approaches!! \n"
     ]
    }
   ],
   "source": [
    "the_sentence = 'The impact*of data-driven$^%&marketing approaches!! -'\n",
    "theCleanSentence = re.sub('[^\\w\\d!-]+', ' ', the_sentence)\n",
    "theCleanerSentence = re.sub('[ -]+', ' ', theCleanSentence)\n",
    "\n",
    "#testing\n",
    "print(theCleanerSentence)"
   ]
  },
  {
   "cell_type": "markdown",
   "metadata": {},
   "source": [
    "## QUESTION 10\n",
    "**Write a python program that accepts an arbitrary sentence and returns a dictionary that has each unique 'character' as a key and count of that character as the value.**"
   ]
  },
  {
   "cell_type": "markdown",
   "metadata": {},
   "source": [
    "### RESPONSE TO QUESTION 10"
   ]
  },
  {
   "cell_type": "code",
   "execution_count": null,
   "metadata": {},
   "outputs": [],
   "source": [
    "#I am including special characters and spaces in this function\n",
    "\n",
    "#Define our function\n",
    "def charCounter(theString):\n",
    "    #Create a list to store all the charcters in the string\n",
    "    charList = list(theString)\n",
    "    \n",
    "    #Create our unique list of characters \n",
    "    #Start by creating a list object\n",
    "    uniqueCharList = []\n",
    "    for ch in charList:\n",
    "        if ch not in uniqueCharList:\n",
    "            uniqueCharList.append(ch)\n",
    "    \n",
    "    #Count frequency of each character and store it in a list\n",
    "    chCount = []\n",
    "    for uniqueCh in uniqueCharList:\n",
    "        chCount.append(charList.count(uniqueCh))\n",
    "    \n",
    "    #Create our Dictionary\n",
    "    dictCh = {}\n",
    "    #Add our keys and values\n",
    "    for i in range(len(uniqueCharList)):\n",
    "        dictCh.update({uniqueCharList[i]: chCount[i]})\n",
    "    \n",
    "    #Testing\n",
    "    print(str(dictCh))\n",
    "    \n",
    "#Function call for testing    \n",
    "charCounter('Joe waited for the train. The train was late.')\n"
   ]
  }
 ],
 "metadata": {
  "kernelspec": {
   "display_name": "Python 3",
   "language": "python",
   "name": "python3"
  },
  "language_info": {
   "codemirror_mode": {
    "name": "ipython",
    "version": 3
   },
   "file_extension": ".py",
   "mimetype": "text/x-python",
   "name": "python",
   "nbconvert_exporter": "python",
   "pygments_lexer": "ipython3",
   "version": "3.7.3"
  }
 },
 "nbformat": 4,
 "nbformat_minor": 2
}
